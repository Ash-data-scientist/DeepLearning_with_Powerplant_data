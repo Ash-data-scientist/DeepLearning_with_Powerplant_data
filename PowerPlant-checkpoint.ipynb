{
 "cells": [
  {
   "cell_type": "code",
   "execution_count": null,
   "metadata": {
    "id": "ODwcl8Kixu2f"
   },
   "outputs": [],
   "source": []
  },
  {
   "cell_type": "code",
   "execution_count": 82,
   "metadata": {
    "id": "mUZuhA_8yQxe"
   },
   "outputs": [],
   "source": [
    "import pandas as pd\n"
   ]
  },
  {
   "cell_type": "code",
   "execution_count": 84,
   "metadata": {
    "id": "yoo1pBzmyYtT"
   },
   "outputs": [],
   "source": [
    "df=pd.read_csv('PowerPlant.csv')"
   ]
  },
  {
   "cell_type": "code",
   "execution_count": 86,
   "metadata": {
    "colab": {
     "base_uri": "https://localhost:8080/",
     "height": 424
    },
    "id": "ZdArLL5gygYo",
    "outputId": "af350b17-e23c-47b8-e0b6-e0fdedb9c527",
    "scrolled": true
   },
   "outputs": [
    {
     "data": {
      "text/html": [
       "<div>\n",
       "<style scoped>\n",
       "    .dataframe tbody tr th:only-of-type {\n",
       "        vertical-align: middle;\n",
       "    }\n",
       "\n",
       "    .dataframe tbody tr th {\n",
       "        vertical-align: top;\n",
       "    }\n",
       "\n",
       "    .dataframe thead th {\n",
       "        text-align: right;\n",
       "    }\n",
       "</style>\n",
       "<table border=\"1\" class=\"dataframe\">\n",
       "  <thead>\n",
       "    <tr style=\"text-align: right;\">\n",
       "      <th></th>\n",
       "      <th>AT</th>\n",
       "      <th>V</th>\n",
       "      <th>AP</th>\n",
       "      <th>RH</th>\n",
       "      <th>PE</th>\n",
       "    </tr>\n",
       "  </thead>\n",
       "  <tbody>\n",
       "    <tr>\n",
       "      <th>0</th>\n",
       "      <td>8.34</td>\n",
       "      <td>40.77</td>\n",
       "      <td>1010.84</td>\n",
       "      <td>90.01</td>\n",
       "      <td>480.48</td>\n",
       "    </tr>\n",
       "    <tr>\n",
       "      <th>1</th>\n",
       "      <td>23.64</td>\n",
       "      <td>58.49</td>\n",
       "      <td>1011.40</td>\n",
       "      <td>74.20</td>\n",
       "      <td>445.75</td>\n",
       "    </tr>\n",
       "    <tr>\n",
       "      <th>2</th>\n",
       "      <td>29.74</td>\n",
       "      <td>56.90</td>\n",
       "      <td>1007.15</td>\n",
       "      <td>41.91</td>\n",
       "      <td>438.76</td>\n",
       "    </tr>\n",
       "    <tr>\n",
       "      <th>3</th>\n",
       "      <td>19.07</td>\n",
       "      <td>49.69</td>\n",
       "      <td>1007.22</td>\n",
       "      <td>76.79</td>\n",
       "      <td>453.09</td>\n",
       "    </tr>\n",
       "    <tr>\n",
       "      <th>4</th>\n",
       "      <td>11.80</td>\n",
       "      <td>40.66</td>\n",
       "      <td>1017.13</td>\n",
       "      <td>97.20</td>\n",
       "      <td>464.43</td>\n",
       "    </tr>\n",
       "    <tr>\n",
       "      <th>...</th>\n",
       "      <td>...</td>\n",
       "      <td>...</td>\n",
       "      <td>...</td>\n",
       "      <td>...</td>\n",
       "      <td>...</td>\n",
       "    </tr>\n",
       "    <tr>\n",
       "      <th>9563</th>\n",
       "      <td>15.12</td>\n",
       "      <td>48.92</td>\n",
       "      <td>1011.80</td>\n",
       "      <td>72.93</td>\n",
       "      <td>462.59</td>\n",
       "    </tr>\n",
       "    <tr>\n",
       "      <th>9564</th>\n",
       "      <td>33.41</td>\n",
       "      <td>77.95</td>\n",
       "      <td>1010.30</td>\n",
       "      <td>59.72</td>\n",
       "      <td>432.90</td>\n",
       "    </tr>\n",
       "    <tr>\n",
       "      <th>9565</th>\n",
       "      <td>15.99</td>\n",
       "      <td>43.34</td>\n",
       "      <td>1014.20</td>\n",
       "      <td>78.66</td>\n",
       "      <td>465.96</td>\n",
       "    </tr>\n",
       "    <tr>\n",
       "      <th>9566</th>\n",
       "      <td>17.65</td>\n",
       "      <td>59.87</td>\n",
       "      <td>1018.58</td>\n",
       "      <td>94.65</td>\n",
       "      <td>450.93</td>\n",
       "    </tr>\n",
       "    <tr>\n",
       "      <th>9567</th>\n",
       "      <td>23.68</td>\n",
       "      <td>51.30</td>\n",
       "      <td>1011.86</td>\n",
       "      <td>71.24</td>\n",
       "      <td>451.67</td>\n",
       "    </tr>\n",
       "  </tbody>\n",
       "</table>\n",
       "<p>9568 rows × 5 columns</p>\n",
       "</div>"
      ],
      "text/plain": [
       "         AT      V       AP     RH      PE\n",
       "0      8.34  40.77  1010.84  90.01  480.48\n",
       "1     23.64  58.49  1011.40  74.20  445.75\n",
       "2     29.74  56.90  1007.15  41.91  438.76\n",
       "3     19.07  49.69  1007.22  76.79  453.09\n",
       "4     11.80  40.66  1017.13  97.20  464.43\n",
       "...     ...    ...      ...    ...     ...\n",
       "9563  15.12  48.92  1011.80  72.93  462.59\n",
       "9564  33.41  77.95  1010.30  59.72  432.90\n",
       "9565  15.99  43.34  1014.20  78.66  465.96\n",
       "9566  17.65  59.87  1018.58  94.65  450.93\n",
       "9567  23.68  51.30  1011.86  71.24  451.67\n",
       "\n",
       "[9568 rows x 5 columns]"
      ]
     },
     "execution_count": 86,
     "metadata": {},
     "output_type": "execute_result"
    }
   ],
   "source": [
    "df"
   ]
  },
  {
   "cell_type": "code",
   "execution_count": 88,
   "metadata": {
    "colab": {
     "base_uri": "https://localhost:8080/"
    },
    "id": "iBzMWzcAyhX0",
    "outputId": "9c93f0a9-97eb-42c6-da15-f017668620ac"
   },
   "outputs": [
    {
     "data": {
      "text/plain": [
       "(9568, 5)"
      ]
     },
     "execution_count": 88,
     "metadata": {},
     "output_type": "execute_result"
    }
   ],
   "source": [
    "df.shape"
   ]
  },
  {
   "cell_type": "code",
   "execution_count": 90,
   "metadata": {
    "colab": {
     "base_uri": "https://localhost:8080/"
    },
    "id": "6XCt9PNlykVQ",
    "outputId": "6efb6a2a-7058-4392-c4d3-ed0c0c856786"
   },
   "outputs": [
    {
     "data": {
      "text/plain": [
       "Index(['AT', 'V', 'AP', 'RH', 'PE'], dtype='object')"
      ]
     },
     "execution_count": 90,
     "metadata": {},
     "output_type": "execute_result"
    }
   ],
   "source": [
    "df.columns"
   ]
  },
  {
   "cell_type": "code",
   "execution_count": 92,
   "metadata": {
    "colab": {
     "base_uri": "https://localhost:8080/"
    },
    "id": "md0wWl9ryyyI",
    "outputId": "64fa2caa-576d-4248-84af-2ddbacdce23e"
   },
   "outputs": [
    {
     "name": "stdout",
     "output_type": "stream",
     "text": [
      "<class 'pandas.core.frame.DataFrame'>\n",
      "RangeIndex: 9568 entries, 0 to 9567\n",
      "Data columns (total 5 columns):\n",
      " #   Column  Non-Null Count  Dtype  \n",
      "---  ------  --------------  -----  \n",
      " 0   AT      9568 non-null   float64\n",
      " 1   V       9568 non-null   float64\n",
      " 2   AP      9568 non-null   float64\n",
      " 3   RH      9568 non-null   float64\n",
      " 4   PE      9568 non-null   float64\n",
      "dtypes: float64(5)\n",
      "memory usage: 373.9 KB\n"
     ]
    }
   ],
   "source": [
    "df.info(0)"
   ]
  },
  {
   "cell_type": "code",
   "execution_count": 94,
   "metadata": {
    "id": "7bnK2LjKy1S7"
   },
   "outputs": [],
   "source": [
    "X=df.drop(labels='PE',axis=1)\n",
    "Y=df[['PE']]"
   ]
  },
  {
   "cell_type": "code",
   "execution_count": 96,
   "metadata": {
    "colab": {
     "base_uri": "https://localhost:8080/",
     "height": 424
    },
    "id": "D_NA6H_bzQhH",
    "outputId": "1c519bb8-7672-4fe7-f329-e82b8bc8374e",
    "scrolled": true
   },
   "outputs": [
    {
     "data": {
      "text/html": [
       "<div>\n",
       "<style scoped>\n",
       "    .dataframe tbody tr th:only-of-type {\n",
       "        vertical-align: middle;\n",
       "    }\n",
       "\n",
       "    .dataframe tbody tr th {\n",
       "        vertical-align: top;\n",
       "    }\n",
       "\n",
       "    .dataframe thead th {\n",
       "        text-align: right;\n",
       "    }\n",
       "</style>\n",
       "<table border=\"1\" class=\"dataframe\">\n",
       "  <thead>\n",
       "    <tr style=\"text-align: right;\">\n",
       "      <th></th>\n",
       "      <th>AT</th>\n",
       "      <th>V</th>\n",
       "      <th>AP</th>\n",
       "      <th>RH</th>\n",
       "    </tr>\n",
       "  </thead>\n",
       "  <tbody>\n",
       "    <tr>\n",
       "      <th>0</th>\n",
       "      <td>8.34</td>\n",
       "      <td>40.77</td>\n",
       "      <td>1010.84</td>\n",
       "      <td>90.01</td>\n",
       "    </tr>\n",
       "    <tr>\n",
       "      <th>1</th>\n",
       "      <td>23.64</td>\n",
       "      <td>58.49</td>\n",
       "      <td>1011.40</td>\n",
       "      <td>74.20</td>\n",
       "    </tr>\n",
       "    <tr>\n",
       "      <th>2</th>\n",
       "      <td>29.74</td>\n",
       "      <td>56.90</td>\n",
       "      <td>1007.15</td>\n",
       "      <td>41.91</td>\n",
       "    </tr>\n",
       "    <tr>\n",
       "      <th>3</th>\n",
       "      <td>19.07</td>\n",
       "      <td>49.69</td>\n",
       "      <td>1007.22</td>\n",
       "      <td>76.79</td>\n",
       "    </tr>\n",
       "    <tr>\n",
       "      <th>4</th>\n",
       "      <td>11.80</td>\n",
       "      <td>40.66</td>\n",
       "      <td>1017.13</td>\n",
       "      <td>97.20</td>\n",
       "    </tr>\n",
       "    <tr>\n",
       "      <th>...</th>\n",
       "      <td>...</td>\n",
       "      <td>...</td>\n",
       "      <td>...</td>\n",
       "      <td>...</td>\n",
       "    </tr>\n",
       "    <tr>\n",
       "      <th>9563</th>\n",
       "      <td>15.12</td>\n",
       "      <td>48.92</td>\n",
       "      <td>1011.80</td>\n",
       "      <td>72.93</td>\n",
       "    </tr>\n",
       "    <tr>\n",
       "      <th>9564</th>\n",
       "      <td>33.41</td>\n",
       "      <td>77.95</td>\n",
       "      <td>1010.30</td>\n",
       "      <td>59.72</td>\n",
       "    </tr>\n",
       "    <tr>\n",
       "      <th>9565</th>\n",
       "      <td>15.99</td>\n",
       "      <td>43.34</td>\n",
       "      <td>1014.20</td>\n",
       "      <td>78.66</td>\n",
       "    </tr>\n",
       "    <tr>\n",
       "      <th>9566</th>\n",
       "      <td>17.65</td>\n",
       "      <td>59.87</td>\n",
       "      <td>1018.58</td>\n",
       "      <td>94.65</td>\n",
       "    </tr>\n",
       "    <tr>\n",
       "      <th>9567</th>\n",
       "      <td>23.68</td>\n",
       "      <td>51.30</td>\n",
       "      <td>1011.86</td>\n",
       "      <td>71.24</td>\n",
       "    </tr>\n",
       "  </tbody>\n",
       "</table>\n",
       "<p>9568 rows × 4 columns</p>\n",
       "</div>"
      ],
      "text/plain": [
       "         AT      V       AP     RH\n",
       "0      8.34  40.77  1010.84  90.01\n",
       "1     23.64  58.49  1011.40  74.20\n",
       "2     29.74  56.90  1007.15  41.91\n",
       "3     19.07  49.69  1007.22  76.79\n",
       "4     11.80  40.66  1017.13  97.20\n",
       "...     ...    ...      ...    ...\n",
       "9563  15.12  48.92  1011.80  72.93\n",
       "9564  33.41  77.95  1010.30  59.72\n",
       "9565  15.99  43.34  1014.20  78.66\n",
       "9566  17.65  59.87  1018.58  94.65\n",
       "9567  23.68  51.30  1011.86  71.24\n",
       "\n",
       "[9568 rows x 4 columns]"
      ]
     },
     "execution_count": 96,
     "metadata": {},
     "output_type": "execute_result"
    }
   ],
   "source": [
    "X"
   ]
  },
  {
   "cell_type": "code",
   "execution_count": 98,
   "metadata": {
    "id": "-yKObd7DzSTK"
   },
   "outputs": [],
   "source": [
    "from sklearn.preprocessing import StandardScaler"
   ]
  },
  {
   "cell_type": "code",
   "execution_count": 100,
   "metadata": {
    "id": "NEND-qQ_zxvO"
   },
   "outputs": [],
   "source": [
    "\n",
    "ss=StandardScaler()"
   ]
  },
  {
   "cell_type": "code",
   "execution_count": 102,
   "metadata": {
    "id": "kasVDmdiz1CR"
   },
   "outputs": [],
   "source": [
    "X = pd.DataFrame(ss.fit_transform(X), columns=['AT', 'V', 'AP', 'RH'])\n"
   ]
  },
  {
   "cell_type": "code",
   "execution_count": 104,
   "metadata": {
    "colab": {
     "base_uri": "https://localhost:8080/"
    },
    "id": "PWesk5M10h_b",
    "outputId": "b15e4f3c-5c6f-465f-9a1b-14c25e3ebd49",
    "scrolled": true
   },
   "outputs": [
    {
     "name": "stdout",
     "output_type": "stream",
     "text": [
      "Column: AT, Outliers: 0 rows\n",
      "Column: V, Outliers: 0 rows\n",
      "Column: AP, Outliers: 51 rows\n",
      "Column: RH, Outliers: 7 rows\n"
     ]
    }
   ],
   "source": [
    "out = []\n",
    "\n",
    "for i in X.columns:\n",
    "    a = X[(X[i] < -3) | (X[i] > 3)].index\n",
    "    out.extend(a)\n",
    "    print(f\"Column: {i}, Outliers: {len(a)} rows\")\n"
   ]
  },
  {
   "cell_type": "code",
   "execution_count": 106,
   "metadata": {
    "colab": {
     "base_uri": "https://localhost:8080/"
    },
    "id": "iWGwGkjq1DgU",
    "outputId": "df5b8a4b-84b6-4e92-a9aa-65e269b3df73"
   },
   "outputs": [
    {
     "data": {
      "text/plain": [
       "58"
      ]
     },
     "execution_count": 106,
     "metadata": {},
     "output_type": "execute_result"
    }
   ],
   "source": [
    "outliers=list(set(out))\n",
    "len(outliers)"
   ]
  },
  {
   "cell_type": "code",
   "execution_count": 108,
   "metadata": {
    "id": "euzYB2T74y2k"
   },
   "outputs": [],
   "source": [
    "from sklearn.model_selection import train_test_split"
   ]
  },
  {
   "cell_type": "code",
   "execution_count": 110,
   "metadata": {
    "id": "90e9FOTD42KL"
   },
   "outputs": [],
   "source": [
    "xtrain,xtest,ytrain,ytest=train_test_split(X,Y,test_size=0.2,random_state=21)"
   ]
  },
  {
   "cell_type": "code",
   "execution_count": 112,
   "metadata": {
    "colab": {
     "base_uri": "https://localhost:8080/"
    },
    "id": "Vy1gW2zl441_",
    "outputId": "326c55db-b457-4865-d974-a3f33b1125a2"
   },
   "outputs": [
    {
     "data": {
      "text/plain": [
       "(7654, 4)"
      ]
     },
     "execution_count": 112,
     "metadata": {},
     "output_type": "execute_result"
    }
   ],
   "source": [
    "xtrain.shape"
   ]
  },
  {
   "cell_type": "code",
   "execution_count": 114,
   "metadata": {
    "colab": {
     "base_uri": "https://localhost:8080/"
    },
    "id": "Wl_30jcC47r4",
    "outputId": "b2b79b66-1894-4653-cd7e-bc8399847c29"
   },
   "outputs": [
    {
     "data": {
      "text/plain": [
       "(1914, 4)"
      ]
     },
     "execution_count": 114,
     "metadata": {},
     "output_type": "execute_result"
    }
   ],
   "source": [
    "xtest.shape"
   ]
  },
  {
   "cell_type": "code",
   "execution_count": 124,
   "metadata": {},
   "outputs": [
    {
     "name": "stdout",
     "output_type": "stream",
     "text": [
      "Requirement already satisfied: keras in c:\\users\\lenovo\\anaconda3\\lib\\site-packages (3.11.1)\n",
      "Requirement already satisfied: absl-py in c:\\users\\lenovo\\anaconda3\\lib\\site-packages (from keras) (2.3.1)\n",
      "Requirement already satisfied: numpy in c:\\users\\lenovo\\anaconda3\\lib\\site-packages (from keras) (1.26.4)\n",
      "Requirement already satisfied: rich in c:\\users\\lenovo\\anaconda3\\lib\\site-packages (from keras) (13.7.1)\n",
      "Requirement already satisfied: namex in c:\\users\\lenovo\\anaconda3\\lib\\site-packages (from keras) (0.1.0)\n",
      "Requirement already satisfied: h5py in c:\\users\\lenovo\\anaconda3\\lib\\site-packages (from keras) (3.11.0)\n",
      "Requirement already satisfied: optree in c:\\users\\lenovo\\anaconda3\\lib\\site-packages (from keras) (0.17.0)\n",
      "Requirement already satisfied: ml-dtypes in c:\\users\\lenovo\\anaconda3\\lib\\site-packages (from keras) (0.5.3)\n",
      "Requirement already satisfied: packaging in c:\\users\\lenovo\\anaconda3\\lib\\site-packages (from keras) (24.1)\n",
      "Requirement already satisfied: typing-extensions>=4.6.0 in c:\\users\\lenovo\\anaconda3\\lib\\site-packages (from optree->keras) (4.11.0)\n",
      "Requirement already satisfied: markdown-it-py>=2.2.0 in c:\\users\\lenovo\\anaconda3\\lib\\site-packages (from rich->keras) (2.2.0)\n",
      "Requirement already satisfied: pygments<3.0.0,>=2.13.0 in c:\\users\\lenovo\\anaconda3\\lib\\site-packages (from rich->keras) (2.15.1)\n",
      "Requirement already satisfied: mdurl~=0.1 in c:\\users\\lenovo\\anaconda3\\lib\\site-packages (from markdown-it-py>=2.2.0->rich->keras) (0.1.0)\n",
      "Collecting tensorflow\n",
      "  Downloading tensorflow-2.19.0-cp312-cp312-win_amd64.whl.metadata (4.1 kB)\n",
      "Requirement already satisfied: absl-py>=1.0.0 in c:\\users\\lenovo\\anaconda3\\lib\\site-packages (from tensorflow) (2.3.1)\n",
      "Collecting astunparse>=1.6.0 (from tensorflow)\n",
      "  Downloading astunparse-1.6.3-py2.py3-none-any.whl.metadata (4.4 kB)\n",
      "Collecting flatbuffers>=24.3.25 (from tensorflow)\n",
      "  Downloading flatbuffers-25.2.10-py2.py3-none-any.whl.metadata (875 bytes)\n",
      "Collecting gast!=0.5.0,!=0.5.1,!=0.5.2,>=0.2.1 (from tensorflow)\n",
      "  Downloading gast-0.6.0-py3-none-any.whl.metadata (1.3 kB)\n",
      "Collecting google-pasta>=0.1.1 (from tensorflow)\n",
      "  Downloading google_pasta-0.2.0-py3-none-any.whl.metadata (814 bytes)\n",
      "Collecting libclang>=13.0.0 (from tensorflow)\n",
      "  Downloading libclang-18.1.1-py2.py3-none-win_amd64.whl.metadata (5.3 kB)\n",
      "Collecting opt-einsum>=2.3.2 (from tensorflow)\n",
      "  Downloading opt_einsum-3.4.0-py3-none-any.whl.metadata (6.3 kB)\n",
      "Requirement already satisfied: packaging in c:\\users\\lenovo\\anaconda3\\lib\\site-packages (from tensorflow) (24.1)\n",
      "Requirement already satisfied: protobuf!=4.21.0,!=4.21.1,!=4.21.2,!=4.21.3,!=4.21.4,!=4.21.5,<6.0.0dev,>=3.20.3 in c:\\users\\lenovo\\anaconda3\\lib\\site-packages (from tensorflow) (4.25.3)\n",
      "Requirement already satisfied: requests<3,>=2.21.0 in c:\\users\\lenovo\\anaconda3\\lib\\site-packages (from tensorflow) (2.32.3)\n",
      "Requirement already satisfied: setuptools in c:\\users\\lenovo\\anaconda3\\lib\\site-packages (from tensorflow) (75.1.0)\n",
      "Requirement already satisfied: six>=1.12.0 in c:\\users\\lenovo\\anaconda3\\lib\\site-packages (from tensorflow) (1.16.0)\n",
      "Collecting termcolor>=1.1.0 (from tensorflow)\n",
      "  Downloading termcolor-3.1.0-py3-none-any.whl.metadata (6.4 kB)\n",
      "Requirement already satisfied: typing-extensions>=3.6.6 in c:\\users\\lenovo\\anaconda3\\lib\\site-packages (from tensorflow) (4.11.0)\n",
      "Requirement already satisfied: wrapt>=1.11.0 in c:\\users\\lenovo\\anaconda3\\lib\\site-packages (from tensorflow) (1.14.1)\n",
      "Collecting grpcio<2.0,>=1.24.3 (from tensorflow)\n",
      "  Downloading grpcio-1.74.0-cp312-cp312-win_amd64.whl.metadata (4.0 kB)\n",
      "Collecting tensorboard~=2.19.0 (from tensorflow)\n",
      "  Downloading tensorboard-2.19.0-py3-none-any.whl.metadata (1.8 kB)\n",
      "Requirement already satisfied: keras>=3.5.0 in c:\\users\\lenovo\\anaconda3\\lib\\site-packages (from tensorflow) (3.11.1)\n",
      "Requirement already satisfied: numpy<2.2.0,>=1.26.0 in c:\\users\\lenovo\\anaconda3\\lib\\site-packages (from tensorflow) (1.26.4)\n",
      "Requirement already satisfied: h5py>=3.11.0 in c:\\users\\lenovo\\anaconda3\\lib\\site-packages (from tensorflow) (3.11.0)\n",
      "Requirement already satisfied: ml-dtypes<1.0.0,>=0.5.1 in c:\\users\\lenovo\\anaconda3\\lib\\site-packages (from tensorflow) (0.5.3)\n",
      "Requirement already satisfied: wheel<1.0,>=0.23.0 in c:\\users\\lenovo\\anaconda3\\lib\\site-packages (from astunparse>=1.6.0->tensorflow) (0.44.0)\n",
      "Requirement already satisfied: rich in c:\\users\\lenovo\\anaconda3\\lib\\site-packages (from keras>=3.5.0->tensorflow) (13.7.1)\n",
      "Requirement already satisfied: namex in c:\\users\\lenovo\\anaconda3\\lib\\site-packages (from keras>=3.5.0->tensorflow) (0.1.0)\n",
      "Requirement already satisfied: optree in c:\\users\\lenovo\\anaconda3\\lib\\site-packages (from keras>=3.5.0->tensorflow) (0.17.0)\n",
      "Requirement already satisfied: charset-normalizer<4,>=2 in c:\\users\\lenovo\\anaconda3\\lib\\site-packages (from requests<3,>=2.21.0->tensorflow) (3.3.2)\n",
      "Requirement already satisfied: idna<4,>=2.5 in c:\\users\\lenovo\\anaconda3\\lib\\site-packages (from requests<3,>=2.21.0->tensorflow) (3.7)\n",
      "Requirement already satisfied: urllib3<3,>=1.21.1 in c:\\users\\lenovo\\anaconda3\\lib\\site-packages (from requests<3,>=2.21.0->tensorflow) (2.2.3)\n",
      "Requirement already satisfied: certifi>=2017.4.17 in c:\\users\\lenovo\\anaconda3\\lib\\site-packages (from requests<3,>=2.21.0->tensorflow) (2024.8.30)\n",
      "Requirement already satisfied: markdown>=2.6.8 in c:\\users\\lenovo\\anaconda3\\lib\\site-packages (from tensorboard~=2.19.0->tensorflow) (3.4.1)\n",
      "Collecting tensorboard-data-server<0.8.0,>=0.7.0 (from tensorboard~=2.19.0->tensorflow)\n",
      "  Downloading tensorboard_data_server-0.7.2-py3-none-any.whl.metadata (1.1 kB)\n",
      "Requirement already satisfied: werkzeug>=1.0.1 in c:\\users\\lenovo\\anaconda3\\lib\\site-packages (from tensorboard~=2.19.0->tensorflow) (3.0.3)\n",
      "Requirement already satisfied: MarkupSafe>=2.1.1 in c:\\users\\lenovo\\anaconda3\\lib\\site-packages (from werkzeug>=1.0.1->tensorboard~=2.19.0->tensorflow) (2.1.3)\n",
      "Requirement already satisfied: markdown-it-py>=2.2.0 in c:\\users\\lenovo\\anaconda3\\lib\\site-packages (from rich->keras>=3.5.0->tensorflow) (2.2.0)\n",
      "Requirement already satisfied: pygments<3.0.0,>=2.13.0 in c:\\users\\lenovo\\anaconda3\\lib\\site-packages (from rich->keras>=3.5.0->tensorflow) (2.15.1)\n",
      "Requirement already satisfied: mdurl~=0.1 in c:\\users\\lenovo\\anaconda3\\lib\\site-packages (from markdown-it-py>=2.2.0->rich->keras>=3.5.0->tensorflow) (0.1.0)\n",
      "Downloading tensorflow-2.19.0-cp312-cp312-win_amd64.whl (376.0 MB)\n",
      "   ---------------------------------------- 0.0/376.0 MB ? eta -:--:--\n",
      "   ---------------------------------------- 3.1/376.0 MB 30.7 MB/s eta 0:00:13\n",
      "   - -------------------------------------- 11.3/376.0 MB 32.0 MB/s eta 0:00:12\n",
      "   - -------------------------------------- 13.9/376.0 MB 24.2 MB/s eta 0:00:15\n",
      "   - -------------------------------------- 15.2/376.0 MB 19.1 MB/s eta 0:00:19\n",
      "   - -------------------------------------- 16.3/376.0 MB 16.3 MB/s eta 0:00:23\n",
      "   - -------------------------------------- 17.0/376.0 MB 14.5 MB/s eta 0:00:25\n",
      "   - -------------------------------------- 18.1/376.0 MB 13.0 MB/s eta 0:00:28\n",
      "   -- ------------------------------------- 19.1/376.0 MB 12.0 MB/s eta 0:00:30\n",
      "   -- ------------------------------------- 20.7/376.0 MB 11.1 MB/s eta 0:00:33\n",
      "   -- ------------------------------------- 22.0/376.0 MB 10.6 MB/s eta 0:00:34\n",
      "   -- ------------------------------------- 23.1/376.0 MB 10.2 MB/s eta 0:00:35\n",
      "   -- ------------------------------------- 24.1/376.0 MB 9.7 MB/s eta 0:00:37\n",
      "   -- ------------------------------------- 25.2/376.0 MB 9.4 MB/s eta 0:00:38\n",
      "   -- ------------------------------------- 26.2/376.0 MB 9.1 MB/s eta 0:00:39\n",
      "   -- ------------------------------------- 27.5/376.0 MB 8.8 MB/s eta 0:00:40\n",
      "   --- ------------------------------------ 28.8/376.0 MB 8.6 MB/s eta 0:00:41\n",
      "   --- ------------------------------------ 30.1/376.0 MB 8.4 MB/s eta 0:00:42\n",
      "   --- ------------------------------------ 31.5/376.0 MB 8.4 MB/s eta 0:00:42\n",
      "   --- ------------------------------------ 33.0/376.0 MB 8.3 MB/s eta 0:00:42\n",
      "   --- ------------------------------------ 34.6/376.0 MB 8.2 MB/s eta 0:00:42\n",
      "   --- ------------------------------------ 36.2/376.0 MB 8.2 MB/s eta 0:00:42\n",
      "   ---- ----------------------------------- 38.0/376.0 MB 8.2 MB/s eta 0:00:42\n",
      "   ---- ----------------------------------- 39.8/376.0 MB 8.2 MB/s eta 0:00:42\n",
      "   ---- ----------------------------------- 41.4/376.0 MB 8.2 MB/s eta 0:00:41\n",
      "   ---- ----------------------------------- 43.5/376.0 MB 8.2 MB/s eta 0:00:41\n",
      "   ---- ----------------------------------- 45.4/376.0 MB 8.2 MB/s eta 0:00:41\n",
      "   ---- ----------------------------------- 46.7/376.0 MB 8.2 MB/s eta 0:00:41\n",
      "   ----- ---------------------------------- 48.8/376.0 MB 8.2 MB/s eta 0:00:40\n",
      "   ----- ---------------------------------- 50.9/376.0 MB 8.3 MB/s eta 0:00:40\n",
      "   ----- ---------------------------------- 52.7/376.0 MB 8.3 MB/s eta 0:00:39\n",
      "   ----- ---------------------------------- 53.7/376.0 MB 8.2 MB/s eta 0:00:40\n",
      "   ----- ---------------------------------- 54.8/376.0 MB 8.1 MB/s eta 0:00:40\n",
      "   ----- ---------------------------------- 56.1/376.0 MB 8.0 MB/s eta 0:00:40\n",
      "   ------ --------------------------------- 57.4/376.0 MB 8.0 MB/s eta 0:00:40\n",
      "   ------ --------------------------------- 58.7/376.0 MB 7.9 MB/s eta 0:00:41\n",
      "   ------ --------------------------------- 60.3/376.0 MB 7.9 MB/s eta 0:00:41\n",
      "   ------ --------------------------------- 61.6/376.0 MB 7.9 MB/s eta 0:00:40\n",
      "   ------ --------------------------------- 63.4/376.0 MB 7.8 MB/s eta 0:00:40\n",
      "   ------ --------------------------------- 65.0/376.0 MB 7.8 MB/s eta 0:00:40\n",
      "   ------- -------------------------------- 66.6/376.0 MB 7.8 MB/s eta 0:00:40\n",
      "   ------- -------------------------------- 68.4/376.0 MB 7.9 MB/s eta 0:00:40\n",
      "   ------- -------------------------------- 70.3/376.0 MB 7.9 MB/s eta 0:00:39\n",
      "   ------- -------------------------------- 72.1/376.0 MB 7.9 MB/s eta 0:00:39\n",
      "   ------- -------------------------------- 73.9/376.0 MB 7.9 MB/s eta 0:00:39\n",
      "   -------- ------------------------------- 75.8/376.0 MB 7.9 MB/s eta 0:00:38\n",
      "   -------- ------------------------------- 77.9/376.0 MB 8.0 MB/s eta 0:00:38\n",
      "   -------- ------------------------------- 80.0/376.0 MB 8.0 MB/s eta 0:00:37\n",
      "   -------- ------------------------------- 82.3/376.0 MB 8.1 MB/s eta 0:00:37\n",
      "   -------- ------------------------------- 84.1/376.0 MB 8.1 MB/s eta 0:00:36\n",
      "   --------- ------------------------------ 86.5/376.0 MB 8.2 MB/s eta 0:00:36\n",
      "   --------- ------------------------------ 88.9/376.0 MB 8.2 MB/s eta 0:00:35\n",
      "   --------- ------------------------------ 91.2/376.0 MB 8.3 MB/s eta 0:00:35\n",
      "   --------- ------------------------------ 93.8/376.0 MB 8.4 MB/s eta 0:00:34\n",
      "   ---------- ----------------------------- 96.2/376.0 MB 8.4 MB/s eta 0:00:34\n",
      "   ---------- ----------------------------- 98.8/376.0 MB 8.5 MB/s eta 0:00:33\n",
      "   ---------- ----------------------------- 101.4/376.0 MB 8.6 MB/s eta 0:00:33\n",
      "   ----------- ---------------------------- 104.3/376.0 MB 8.6 MB/s eta 0:00:32\n",
      "   ----------- ---------------------------- 107.0/376.0 MB 8.7 MB/s eta 0:00:31\n",
      "   ----------- ---------------------------- 109.8/376.0 MB 8.8 MB/s eta 0:00:31\n",
      "   ------------ --------------------------- 113.0/376.0 MB 8.9 MB/s eta 0:00:30\n",
      "   ------------ --------------------------- 115.9/376.0 MB 8.9 MB/s eta 0:00:30\n",
      "   ------------ --------------------------- 119.0/376.0 MB 9.0 MB/s eta 0:00:29\n",
      "   ------------ --------------------------- 122.2/376.0 MB 9.1 MB/s eta 0:00:28\n",
      "   ------------- -------------------------- 125.0/376.0 MB 9.2 MB/s eta 0:00:28\n",
      "   ------------- -------------------------- 128.5/376.0 MB 9.3 MB/s eta 0:00:27\n",
      "   -------------- ------------------------- 131.9/376.0 MB 9.4 MB/s eta 0:00:26\n",
      "   -------------- ------------------------- 135.0/376.0 MB 9.5 MB/s eta 0:00:26\n",
      "   -------------- ------------------------- 138.1/376.0 MB 9.6 MB/s eta 0:00:25\n",
      "   --------------- ------------------------ 141.6/376.0 MB 9.7 MB/s eta 0:00:25\n",
      "   --------------- ------------------------ 145.0/376.0 MB 9.7 MB/s eta 0:00:24\n",
      "   --------------- ------------------------ 148.4/376.0 MB 9.8 MB/s eta 0:00:24\n",
      "   ---------------- ----------------------- 150.7/376.0 MB 9.9 MB/s eta 0:00:23\n",
      "   ---------------- ----------------------- 153.1/376.0 MB 9.9 MB/s eta 0:00:23\n",
      "   ---------------- ----------------------- 154.9/376.0 MB 9.9 MB/s eta 0:00:23\n",
      "   ---------------- ----------------------- 157.0/376.0 MB 9.9 MB/s eta 0:00:23\n",
      "   ---------------- ----------------------- 159.1/376.0 MB 9.9 MB/s eta 0:00:22\n",
      "   ----------------- ---------------------- 161.2/376.0 MB 9.9 MB/s eta 0:00:22\n",
      "   ----------------- ---------------------- 163.3/376.0 MB 9.9 MB/s eta 0:00:22\n",
      "   ----------------- ---------------------- 165.7/376.0 MB 9.9 MB/s eta 0:00:22\n",
      "   ----------------- ---------------------- 168.0/376.0 MB 9.9 MB/s eta 0:00:21\n",
      "   ------------------ --------------------- 170.4/376.0 MB 9.9 MB/s eta 0:00:21\n",
      "   ----------------- --------------------- 173.0/376.0 MB 10.0 MB/s eta 0:00:21\n",
      "   ------------------ -------------------- 175.4/376.0 MB 10.0 MB/s eta 0:00:21\n",
      "   ------------------ -------------------- 178.0/376.0 MB 10.0 MB/s eta 0:00:20\n",
      "   ------------------ -------------------- 180.6/376.0 MB 10.0 MB/s eta 0:00:20\n",
      "   ------------------- ------------------- 183.5/376.0 MB 10.1 MB/s eta 0:00:20\n",
      "   ------------------- ------------------- 186.1/376.0 MB 10.1 MB/s eta 0:00:19\n",
      "   ------------------- ------------------- 189.0/376.0 MB 10.1 MB/s eta 0:00:19\n",
      "   ------------------- ------------------- 191.9/376.0 MB 10.2 MB/s eta 0:00:19\n",
      "   -------------------- ------------------ 194.8/376.0 MB 10.2 MB/s eta 0:00:18\n",
      "   -------------------- ------------------ 197.7/376.0 MB 10.3 MB/s eta 0:00:18\n",
      "   -------------------- ------------------ 200.8/376.0 MB 10.3 MB/s eta 0:00:17\n",
      "   --------------------- ----------------- 203.9/376.0 MB 10.4 MB/s eta 0:00:17\n",
      "   --------------------- ----------------- 207.1/376.0 MB 10.4 MB/s eta 0:00:17\n",
      "   --------------------- ----------------- 210.2/376.0 MB 10.4 MB/s eta 0:00:16\n",
      "   ---------------------- ---------------- 213.4/376.0 MB 10.5 MB/s eta 0:00:16\n",
      "   ---------------------- ---------------- 216.5/376.0 MB 10.5 MB/s eta 0:00:16\n",
      "   ---------------------- ---------------- 219.9/376.0 MB 10.6 MB/s eta 0:00:15\n",
      "   ----------------------- --------------- 223.3/376.0 MB 10.7 MB/s eta 0:00:15\n",
      "   ----------------------- --------------- 227.0/376.0 MB 10.7 MB/s eta 0:00:14\n",
      "   ----------------------- --------------- 229.9/376.0 MB 10.8 MB/s eta 0:00:14\n",
      "   ------------------------ -------------- 232.3/376.0 MB 10.8 MB/s eta 0:00:14\n",
      "   ------------------------ -------------- 234.9/376.0 MB 10.8 MB/s eta 0:00:14\n",
      "   ------------------------ -------------- 237.8/376.0 MB 10.8 MB/s eta 0:00:13\n",
      "   ------------------------ -------------- 240.9/376.0 MB 10.8 MB/s eta 0:00:13\n",
      "   ------------------------- ------------- 243.8/376.0 MB 10.9 MB/s eta 0:00:13\n",
      "   ------------------------- ------------- 246.2/376.0 MB 10.9 MB/s eta 0:00:12\n",
      "   ------------------------- ------------- 248.3/376.0 MB 10.8 MB/s eta 0:00:12\n",
      "   ------------------------- ------------- 250.1/376.0 MB 10.8 MB/s eta 0:00:12\n",
      "   -------------------------- ------------ 252.2/376.0 MB 10.8 MB/s eta 0:00:12\n",
      "   -------------------------- ------------ 254.3/376.0 MB 10.8 MB/s eta 0:00:12\n",
      "   -------------------------- ------------ 256.4/376.0 MB 10.8 MB/s eta 0:00:12\n",
      "   -------------------------- ------------ 258.5/376.0 MB 10.8 MB/s eta 0:00:11\n",
      "   --------------------------- ----------- 260.6/376.0 MB 10.8 MB/s eta 0:00:11\n",
      "   --------------------------- ----------- 262.9/376.0 MB 10.8 MB/s eta 0:00:11\n",
      "   --------------------------- ----------- 265.6/376.0 MB 10.7 MB/s eta 0:00:11\n",
      "   --------------------------- ----------- 267.9/376.0 MB 10.7 MB/s eta 0:00:11\n",
      "   ---------------------------- ---------- 270.5/376.0 MB 10.6 MB/s eta 0:00:10\n",
      "   ---------------------------- ---------- 273.4/376.0 MB 10.5 MB/s eta 0:00:10\n",
      "   ---------------------------- ---------- 276.3/376.0 MB 10.6 MB/s eta 0:00:10\n",
      "   ---------------------------- ---------- 278.9/376.0 MB 10.7 MB/s eta 0:00:10\n",
      "   ----------------------------- --------- 281.8/376.0 MB 10.9 MB/s eta 0:00:09\n",
      "   ----------------------------- --------- 284.7/376.0 MB 11.0 MB/s eta 0:00:09\n",
      "   ----------------------------- --------- 287.8/376.0 MB 11.2 MB/s eta 0:00:08\n",
      "   ------------------------------ -------- 291.0/376.0 MB 11.3 MB/s eta 0:00:08\n",
      "   ------------------------------ -------- 294.1/376.0 MB 11.4 MB/s eta 0:00:08\n",
      "   ------------------------------ -------- 297.0/376.0 MB 11.6 MB/s eta 0:00:07\n",
      "   ------------------------------- ------- 300.2/376.0 MB 11.6 MB/s eta 0:00:07\n",
      "   ------------------------------- ------- 303.3/376.0 MB 11.7 MB/s eta 0:00:07\n",
      "   ------------------------------- ------- 306.7/376.0 MB 11.8 MB/s eta 0:00:06\n",
      "   -------------------------------- ------ 309.9/376.0 MB 11.9 MB/s eta 0:00:06\n",
      "   -------------------------------- ------ 313.5/376.0 MB 12.0 MB/s eta 0:00:06\n",
      "   -------------------------------- ------ 316.9/376.0 MB 12.2 MB/s eta 0:00:05\n",
      "   --------------------------------- ----- 320.1/376.0 MB 12.4 MB/s eta 0:00:05\n",
      "   --------------------------------- ----- 322.4/376.0 MB 12.5 MB/s eta 0:00:05\n",
      "   --------------------------------- ----- 324.8/376.0 MB 12.5 MB/s eta 0:00:05\n",
      "   --------------------------------- ----- 326.6/376.0 MB 12.6 MB/s eta 0:00:04\n",
      "   ---------------------------------- ---- 328.5/376.0 MB 12.6 MB/s eta 0:00:04\n",
      "   ---------------------------------- ---- 330.8/376.0 MB 12.6 MB/s eta 0:00:04\n",
      "   ---------------------------------- ---- 332.9/376.0 MB 12.6 MB/s eta 0:00:04\n",
      "   ---------------------------------- ---- 335.0/376.0 MB 12.6 MB/s eta 0:00:04\n",
      "   ---------------------------------- ---- 337.4/376.0 MB 12.7 MB/s eta 0:00:04\n",
      "   ----------------------------------- --- 339.5/376.0 MB 12.7 MB/s eta 0:00:03\n",
      "   ----------------------------------- --- 341.8/376.0 MB 12.7 MB/s eta 0:00:03\n",
      "   ----------------------------------- --- 344.7/376.0 MB 12.7 MB/s eta 0:00:03\n",
      "   ------------------------------------ -- 347.3/376.0 MB 12.7 MB/s eta 0:00:03\n",
      "   ------------------------------------ -- 350.0/376.0 MB 12.8 MB/s eta 0:00:03\n",
      "   ------------------------------------ -- 352.3/376.0 MB 12.8 MB/s eta 0:00:02\n",
      "   ------------------------------------ -- 355.2/376.0 MB 12.8 MB/s eta 0:00:02\n",
      "   ------------------------------------- - 357.8/376.0 MB 12.8 MB/s eta 0:00:02\n",
      "   ------------------------------------- - 360.7/376.0 MB 12.8 MB/s eta 0:00:02\n",
      "   ------------------------------------- - 363.6/376.0 MB 12.8 MB/s eta 0:00:01\n",
      "   ------------------------------------- - 366.0/376.0 MB 12.8 MB/s eta 0:00:01\n",
      "   --------------------------------------  368.8/376.0 MB 12.8 MB/s eta 0:00:01\n",
      "   --------------------------------------  372.0/376.0 MB 12.8 MB/s eta 0:00:01\n",
      "   --------------------------------------  374.9/376.0 MB 12.8 MB/s eta 0:00:01\n",
      "   --------------------------------------  375.9/376.0 MB 12.8 MB/s eta 0:00:01\n",
      "   --------------------------------------  375.9/376.0 MB 12.8 MB/s eta 0:00:01\n",
      "   --------------------------------------  375.9/376.0 MB 12.8 MB/s eta 0:00:01\n",
      "   --------------------------------------  375.9/376.0 MB 12.8 MB/s eta 0:00:01\n",
      "   --------------------------------------- 376.0/376.0 MB 12.3 MB/s eta 0:00:00\n",
      "Downloading astunparse-1.6.3-py2.py3-none-any.whl (12 kB)\n",
      "Downloading flatbuffers-25.2.10-py2.py3-none-any.whl (30 kB)\n",
      "Downloading gast-0.6.0-py3-none-any.whl (21 kB)\n",
      "Downloading google_pasta-0.2.0-py3-none-any.whl (57 kB)\n",
      "Downloading grpcio-1.74.0-cp312-cp312-win_amd64.whl (4.5 MB)\n",
      "   ---------------------------------------- 0.0/4.5 MB ? eta -:--:--\n",
      "   ------------------------- -------------- 2.9/4.5 MB 14.0 MB/s eta 0:00:01\n",
      "   ---------------------------------------- 4.5/4.5 MB 13.6 MB/s eta 0:00:00\n",
      "Downloading libclang-18.1.1-py2.py3-none-win_amd64.whl (26.4 MB)\n",
      "   ---------------------------------------- 0.0/26.4 MB ? eta -:--:--\n",
      "   ---- ----------------------------------- 3.1/26.4 MB 14.2 MB/s eta 0:00:02\n",
      "   --------- ------------------------------ 6.0/26.4 MB 14.2 MB/s eta 0:00:02\n",
      "   ------------- -------------------------- 9.2/26.4 MB 14.6 MB/s eta 0:00:02\n",
      "   ------------------- -------------------- 12.6/26.4 MB 14.9 MB/s eta 0:00:01\n",
      "   ----------------------- ---------------- 15.7/26.4 MB 15.0 MB/s eta 0:00:01\n",
      "   ---------------------------- ----------- 19.1/26.4 MB 15.1 MB/s eta 0:00:01\n",
      "   ---------------------------------- ----- 22.5/26.4 MB 15.3 MB/s eta 0:00:01\n",
      "   -------------------------------------- - 25.7/26.4 MB 15.4 MB/s eta 0:00:01\n",
      "   ---------------------------------------- 26.4/26.4 MB 14.7 MB/s eta 0:00:00\n",
      "Downloading opt_einsum-3.4.0-py3-none-any.whl (71 kB)\n",
      "Downloading tensorboard-2.19.0-py3-none-any.whl (5.5 MB)\n",
      "   ---------------------------------------- 0.0/5.5 MB ? eta -:--:--\n",
      "   ------------- -------------------------- 1.8/5.5 MB 9.2 MB/s eta 0:00:01\n",
      "   ---------------------------- ----------- 3.9/5.5 MB 9.0 MB/s eta 0:00:01\n",
      "   ---------------------------------------- 5.5/5.5 MB 8.8 MB/s eta 0:00:00\n",
      "Downloading termcolor-3.1.0-py3-none-any.whl (7.7 kB)\n",
      "Downloading tensorboard_data_server-0.7.2-py3-none-any.whl (2.4 kB)\n",
      "Installing collected packages: libclang, flatbuffers, termcolor, tensorboard-data-server, opt-einsum, grpcio, google-pasta, gast, astunparse, tensorboard, tensorflow\n",
      "Successfully installed astunparse-1.6.3 flatbuffers-25.2.10 gast-0.6.0 google-pasta-0.2.0 grpcio-1.74.0 libclang-18.1.1 opt-einsum-3.4.0 tensorboard-2.19.0 tensorboard-data-server-0.7.2 tensorflow-2.19.0 termcolor-3.1.0\n"
     ]
    }
   ],
   "source": [
    "!pip install keras\n",
    "!pip install tensorflow\n"
   ]
  },
  {
   "cell_type": "code",
   "execution_count": 125,
   "metadata": {
    "id": "pDUsmlj-49XQ",
    "scrolled": true
   },
   "outputs": [],
   "source": [
    "from keras.models import Sequential\n",
    "from keras.layers import Input, Dense\n"
   ]
  },
  {
   "cell_type": "code",
   "execution_count": null,
   "metadata": {
    "id": "0sOESUVD6luQ"
   },
   "outputs": [],
   "source": []
  },
  {
   "cell_type": "code",
   "execution_count": null,
   "metadata": {
    "id": "5a063a52"
   },
   "outputs": [],
   "source": [
    "model = Sequential()\n",
    "model.add(Input(shape=(xtrain.shape[1],)))\n"
   ]
  },
  {
   "cell_type": "code",
   "execution_count": null,
   "metadata": {
    "id": "j1DaQGhF7B8F"
   },
   "outputs": [],
   "source": [
    "model.add(Dense(units=64,activation='relu'))\n"
   ]
  },
  {
   "cell_type": "code",
   "execution_count": null,
   "metadata": {
    "id": "72uSJN9k7BVW"
   },
   "outputs": [],
   "source": [
    "model.add(Dense(units=32,activation='relu'))\n"
   ]
  },
  {
   "cell_type": "code",
   "execution_count": 44,
   "metadata": {
    "id": "uxqIyxJf7p3a"
   },
   "outputs": [
    {
     "ename": "NameError",
     "evalue": "name 'model' is not defined",
     "output_type": "error",
     "traceback": [
      "\u001b[1;31m---------------------------------------------------------------------------\u001b[0m",
      "\u001b[1;31mNameError\u001b[0m                                 Traceback (most recent call last)",
      "Cell \u001b[1;32mIn[44], line 1\u001b[0m\n\u001b[1;32m----> 1\u001b[0m model\u001b[38;5;241m.\u001b[39madd(Dense(units\u001b[38;5;241m=\u001b[39m\u001b[38;5;241m1\u001b[39m,activation\u001b[38;5;241m=\u001b[39m\u001b[38;5;124m'\u001b[39m\u001b[38;5;124mlinear\u001b[39m\u001b[38;5;124m'\u001b[39m))\n",
      "\u001b[1;31mNameError\u001b[0m: name 'model' is not defined"
     ]
    }
   ],
   "source": [
    "model.add(Dense(units=1,activation='linear'))"
   ]
  },
  {
   "cell_type": "code",
   "execution_count": 46,
   "metadata": {
    "id": "BXBYLIBf711T"
   },
   "outputs": [
    {
     "ename": "NameError",
     "evalue": "name 'model' is not defined",
     "output_type": "error",
     "traceback": [
      "\u001b[1;31m---------------------------------------------------------------------------\u001b[0m",
      "\u001b[1;31mNameError\u001b[0m                                 Traceback (most recent call last)",
      "Cell \u001b[1;32mIn[46], line 1\u001b[0m\n\u001b[1;32m----> 1\u001b[0m model\u001b[38;5;241m.\u001b[39mcompile(loss\u001b[38;5;241m=\u001b[39m\u001b[38;5;124m'\u001b[39m\u001b[38;5;124mmse\u001b[39m\u001b[38;5;124m'\u001b[39m,optimizer\u001b[38;5;241m=\u001b[39m\u001b[38;5;124m'\u001b[39m\u001b[38;5;124madam\u001b[39m\u001b[38;5;124m'\u001b[39m,metrics\u001b[38;5;241m=\u001b[39m[\u001b[38;5;124m'\u001b[39m\u001b[38;5;124mmae\u001b[39m\u001b[38;5;124m'\u001b[39m])\n",
      "\u001b[1;31mNameError\u001b[0m: name 'model' is not defined"
     ]
    }
   ],
   "source": [
    "model.compile(loss='mse',optimizer='adam',metrics=['mae'])\n"
   ]
  },
  {
   "cell_type": "code",
   "execution_count": 48,
   "metadata": {
    "colab": {
     "base_uri": "https://localhost:8080/"
    },
    "id": "zNjT_oib75RW",
    "outputId": "5c050170-665a-4d41-b2f0-74c4f46eb97e"
   },
   "outputs": [
    {
     "ename": "NameError",
     "evalue": "name 'model' is not defined",
     "output_type": "error",
     "traceback": [
      "\u001b[1;31m---------------------------------------------------------------------------\u001b[0m",
      "\u001b[1;31mNameError\u001b[0m                                 Traceback (most recent call last)",
      "Cell \u001b[1;32mIn[48], line 1\u001b[0m\n\u001b[1;32m----> 1\u001b[0m hist\u001b[38;5;241m=\u001b[39mmodel\u001b[38;5;241m.\u001b[39mfit(xtrain,ytrain,validation_split\u001b[38;5;241m=\u001b[39m\u001b[38;5;241m0.2\u001b[39m,epochs\u001b[38;5;241m=\u001b[39m\u001b[38;5;241m50\u001b[39m)\n",
      "\u001b[1;31mNameError\u001b[0m: name 'model' is not defined"
     ]
    }
   ],
   "source": [
    "hist=model.fit(xtrain,ytrain,validation_split=0.2,epochs=50)"
   ]
  },
  {
   "cell_type": "code",
   "execution_count": 50,
   "metadata": {
    "colab": {
     "base_uri": "https://localhost:8080/",
     "height": 487
    },
    "id": "iPzuWtS28AZ1",
    "outputId": "7e5f13eb-79ba-4571-fc9a-0a934db212ac"
   },
   "outputs": [
    {
     "ename": "NameError",
     "evalue": "name 'hist' is not defined",
     "output_type": "error",
     "traceback": [
      "\u001b[1;31m---------------------------------------------------------------------------\u001b[0m",
      "\u001b[1;31mNameError\u001b[0m                                 Traceback (most recent call last)",
      "Cell \u001b[1;32mIn[50], line 5\u001b[0m\n\u001b[0;32m      2\u001b[0m \u001b[38;5;28;01mimport\u001b[39;00m \u001b[38;5;21;01mmatplotlib\u001b[39;00m\u001b[38;5;21;01m.\u001b[39;00m\u001b[38;5;21;01mpyplot\u001b[39;00m \u001b[38;5;28;01mas\u001b[39;00m \u001b[38;5;21;01mplt\u001b[39;00m\n\u001b[0;32m      4\u001b[0m plt\u001b[38;5;241m.\u001b[39mfigure(figsize\u001b[38;5;241m=\u001b[39m(\u001b[38;5;241m10\u001b[39m,\u001b[38;5;241m5\u001b[39m))\n\u001b[1;32m----> 5\u001b[0m plt\u001b[38;5;241m.\u001b[39mplot(hist\u001b[38;5;241m.\u001b[39mhistory[\u001b[38;5;124m'\u001b[39m\u001b[38;5;124mloss\u001b[39m\u001b[38;5;124m'\u001b[39m],label\u001b[38;5;241m=\u001b[39m\u001b[38;5;124m'\u001b[39m\u001b[38;5;124mTrain loss\u001b[39m\u001b[38;5;124m'\u001b[39m)\n\u001b[0;32m      6\u001b[0m plt\u001b[38;5;241m.\u001b[39mplot(hist\u001b[38;5;241m.\u001b[39mhistory[\u001b[38;5;124m'\u001b[39m\u001b[38;5;124mval_loss\u001b[39m\u001b[38;5;124m'\u001b[39m],label\u001b[38;5;241m=\u001b[39m\u001b[38;5;124m'\u001b[39m\u001b[38;5;124mval_loss\u001b[39m\u001b[38;5;124m'\u001b[39m)\n\u001b[0;32m      7\u001b[0m plt\u001b[38;5;241m.\u001b[39mxlabel(\u001b[38;5;124m'\u001b[39m\u001b[38;5;124mEpochs\u001b[39m\u001b[38;5;124m'\u001b[39m)\n",
      "\u001b[1;31mNameError\u001b[0m: name 'hist' is not defined"
     ]
    },
    {
     "data": {
      "text/plain": [
       "<Figure size 1000x500 with 0 Axes>"
      ]
     },
     "metadata": {},
     "output_type": "display_data"
    }
   ],
   "source": [
    "#plot the learing curve\n",
    "import matplotlib.pyplot as plt\n",
    "\n",
    "plt.figure(figsize=(10,5))\n",
    "plt.plot(hist.history['loss'],label='Train loss')\n",
    "plt.plot(hist.history['val_loss'],label='val_loss')\n",
    "plt.xlabel('Epochs')\n",
    "plt.ylabel('Mean Squared Error')\n",
    "plt.title('Learning Curve')\n",
    "plt.show()"
   ]
  },
  {
   "cell_type": "code",
   "execution_count": 104,
   "metadata": {
    "colab": {
     "base_uri": "https://localhost:8080/"
    },
    "id": "bF1qHXXX770C",
    "outputId": "6335863c-ac1c-4f85-939e-35351f8c2533"
   },
   "outputs": [
    {
     "name": "stdout",
     "output_type": "stream",
     "text": [
      "\u001b[1m238/238\u001b[0m \u001b[32m━━━━━━━━━━━━━━━━━━━━\u001b[0m\u001b[37m\u001b[0m \u001b[1m0s\u001b[0m 895us/step\n",
      "\u001b[1m60/60\u001b[0m \u001b[32m━━━━━━━━━━━━━━━━━━━━\u001b[0m\u001b[37m\u001b[0m \u001b[1m0s\u001b[0m 882us/step\n"
     ]
    }
   ],
   "source": [
    "tr_pred=model.predict(xtrain)\n",
    "ts_pred=model.predict(xtest)"
   ]
  },
  {
   "cell_type": "code",
   "execution_count": 105,
   "metadata": {
    "colab": {
     "base_uri": "https://localhost:8080/",
     "height": 206
    },
    "id": "uWgzc3mZ9wA4",
    "outputId": "7fb1dc11-8249-4d06-8e89-f64766161984"
   },
   "outputs": [
    {
     "data": {
      "application/vnd.google.colaboratory.intrinsic+json": {
       "summary": "{\n  \"name\": \"ytrain\",\n  \"rows\": 7608,\n  \"fields\": [\n    {\n      \"column\": \"PE\",\n      \"properties\": {\n        \"dtype\": \"number\",\n        \"std\": 17.008344205929493,\n        \"min\": 420.26,\n        \"max\": 495.35,\n        \"num_unique_values\": 4282,\n        \"samples\": [\n          464.67,\n          443.61,\n          443.91\n        ],\n        \"semantic_type\": \"\",\n        \"description\": \"\"\n      }\n    }\n  ]\n}",
       "type": "dataframe",
       "variable_name": "ytrain"
      },
      "text/html": [
       "\n",
       "  <div id=\"df-c00080d4-c911-413b-8241-ece4a6baf73f\" class=\"colab-df-container\">\n",
       "    <div>\n",
       "<style scoped>\n",
       "    .dataframe tbody tr th:only-of-type {\n",
       "        vertical-align: middle;\n",
       "    }\n",
       "\n",
       "    .dataframe tbody tr th {\n",
       "        vertical-align: top;\n",
       "    }\n",
       "\n",
       "    .dataframe thead th {\n",
       "        text-align: right;\n",
       "    }\n",
       "</style>\n",
       "<table border=\"1\" class=\"dataframe\">\n",
       "  <thead>\n",
       "    <tr style=\"text-align: right;\">\n",
       "      <th></th>\n",
       "      <th>PE</th>\n",
       "    </tr>\n",
       "  </thead>\n",
       "  <tbody>\n",
       "    <tr>\n",
       "      <th>6713</th>\n",
       "      <td>438.59</td>\n",
       "    </tr>\n",
       "    <tr>\n",
       "      <th>6077</th>\n",
       "      <td>480.86</td>\n",
       "    </tr>\n",
       "    <tr>\n",
       "      <th>5191</th>\n",
       "      <td>468.53</td>\n",
       "    </tr>\n",
       "    <tr>\n",
       "      <th>4088</th>\n",
       "      <td>444.01</td>\n",
       "    </tr>\n",
       "    <tr>\n",
       "      <th>2934</th>\n",
       "      <td>479.61</td>\n",
       "    </tr>\n",
       "  </tbody>\n",
       "</table>\n",
       "</div>\n",
       "    <div class=\"colab-df-buttons\">\n",
       "\n",
       "  <div class=\"colab-df-container\">\n",
       "    <button class=\"colab-df-convert\" onclick=\"convertToInteractive('df-c00080d4-c911-413b-8241-ece4a6baf73f')\"\n",
       "            title=\"Convert this dataframe to an interactive table.\"\n",
       "            style=\"display:none;\">\n",
       "\n",
       "  <svg xmlns=\"http://www.w3.org/2000/svg\" height=\"24px\" viewBox=\"0 -960 960 960\">\n",
       "    <path d=\"M120-120v-720h720v720H120Zm60-500h600v-160H180v160Zm220 220h160v-160H400v160Zm0 220h160v-160H400v160ZM180-400h160v-160H180v160Zm440 0h160v-160H620v160ZM180-180h160v-160H180v160Zm440 0h160v-160H620v160Z\"/>\n",
       "  </svg>\n",
       "    </button>\n",
       "\n",
       "  <style>\n",
       "    .colab-df-container {\n",
       "      display:flex;\n",
       "      gap: 12px;\n",
       "    }\n",
       "\n",
       "    .colab-df-convert {\n",
       "      background-color: #E8F0FE;\n",
       "      border: none;\n",
       "      border-radius: 50%;\n",
       "      cursor: pointer;\n",
       "      display: none;\n",
       "      fill: #1967D2;\n",
       "      height: 32px;\n",
       "      padding: 0 0 0 0;\n",
       "      width: 32px;\n",
       "    }\n",
       "\n",
       "    .colab-df-convert:hover {\n",
       "      background-color: #E2EBFA;\n",
       "      box-shadow: 0px 1px 2px rgba(60, 64, 67, 0.3), 0px 1px 3px 1px rgba(60, 64, 67, 0.15);\n",
       "      fill: #174EA6;\n",
       "    }\n",
       "\n",
       "    .colab-df-buttons div {\n",
       "      margin-bottom: 4px;\n",
       "    }\n",
       "\n",
       "    [theme=dark] .colab-df-convert {\n",
       "      background-color: #3B4455;\n",
       "      fill: #D2E3FC;\n",
       "    }\n",
       "\n",
       "    [theme=dark] .colab-df-convert:hover {\n",
       "      background-color: #434B5C;\n",
       "      box-shadow: 0px 1px 3px 1px rgba(0, 0, 0, 0.15);\n",
       "      filter: drop-shadow(0px 1px 2px rgba(0, 0, 0, 0.3));\n",
       "      fill: #FFFFFF;\n",
       "    }\n",
       "  </style>\n",
       "\n",
       "    <script>\n",
       "      const buttonEl =\n",
       "        document.querySelector('#df-c00080d4-c911-413b-8241-ece4a6baf73f button.colab-df-convert');\n",
       "      buttonEl.style.display =\n",
       "        google.colab.kernel.accessAllowed ? 'block' : 'none';\n",
       "\n",
       "      async function convertToInteractive(key) {\n",
       "        const element = document.querySelector('#df-c00080d4-c911-413b-8241-ece4a6baf73f');\n",
       "        const dataTable =\n",
       "          await google.colab.kernel.invokeFunction('convertToInteractive',\n",
       "                                                    [key], {});\n",
       "        if (!dataTable) return;\n",
       "\n",
       "        const docLinkHtml = 'Like what you see? Visit the ' +\n",
       "          '<a target=\"_blank\" href=https://colab.research.google.com/notebooks/data_table.ipynb>data table notebook</a>'\n",
       "          + ' to learn more about interactive tables.';\n",
       "        element.innerHTML = '';\n",
       "        dataTable['output_type'] = 'display_data';\n",
       "        await google.colab.output.renderOutput(dataTable, element);\n",
       "        const docLink = document.createElement('div');\n",
       "        docLink.innerHTML = docLinkHtml;\n",
       "        element.appendChild(docLink);\n",
       "      }\n",
       "    </script>\n",
       "  </div>\n",
       "\n",
       "\n",
       "    <div id=\"df-6999eb5e-26b3-4677-9511-ea8631c8f4ce\">\n",
       "      <button class=\"colab-df-quickchart\" onclick=\"quickchart('df-6999eb5e-26b3-4677-9511-ea8631c8f4ce')\"\n",
       "                title=\"Suggest charts\"\n",
       "                style=\"display:none;\">\n",
       "\n",
       "<svg xmlns=\"http://www.w3.org/2000/svg\" height=\"24px\"viewBox=\"0 0 24 24\"\n",
       "     width=\"24px\">\n",
       "    <g>\n",
       "        <path d=\"M19 3H5c-1.1 0-2 .9-2 2v14c0 1.1.9 2 2 2h14c1.1 0 2-.9 2-2V5c0-1.1-.9-2-2-2zM9 17H7v-7h2v7zm4 0h-2V7h2v10zm4 0h-2v-4h2v4z\"/>\n",
       "    </g>\n",
       "</svg>\n",
       "      </button>\n",
       "\n",
       "<style>\n",
       "  .colab-df-quickchart {\n",
       "      --bg-color: #E8F0FE;\n",
       "      --fill-color: #1967D2;\n",
       "      --hover-bg-color: #E2EBFA;\n",
       "      --hover-fill-color: #174EA6;\n",
       "      --disabled-fill-color: #AAA;\n",
       "      --disabled-bg-color: #DDD;\n",
       "  }\n",
       "\n",
       "  [theme=dark] .colab-df-quickchart {\n",
       "      --bg-color: #3B4455;\n",
       "      --fill-color: #D2E3FC;\n",
       "      --hover-bg-color: #434B5C;\n",
       "      --hover-fill-color: #FFFFFF;\n",
       "      --disabled-bg-color: #3B4455;\n",
       "      --disabled-fill-color: #666;\n",
       "  }\n",
       "\n",
       "  .colab-df-quickchart {\n",
       "    background-color: var(--bg-color);\n",
       "    border: none;\n",
       "    border-radius: 50%;\n",
       "    cursor: pointer;\n",
       "    display: none;\n",
       "    fill: var(--fill-color);\n",
       "    height: 32px;\n",
       "    padding: 0;\n",
       "    width: 32px;\n",
       "  }\n",
       "\n",
       "  .colab-df-quickchart:hover {\n",
       "    background-color: var(--hover-bg-color);\n",
       "    box-shadow: 0 1px 2px rgba(60, 64, 67, 0.3), 0 1px 3px 1px rgba(60, 64, 67, 0.15);\n",
       "    fill: var(--button-hover-fill-color);\n",
       "  }\n",
       "\n",
       "  .colab-df-quickchart-complete:disabled,\n",
       "  .colab-df-quickchart-complete:disabled:hover {\n",
       "    background-color: var(--disabled-bg-color);\n",
       "    fill: var(--disabled-fill-color);\n",
       "    box-shadow: none;\n",
       "  }\n",
       "\n",
       "  .colab-df-spinner {\n",
       "    border: 2px solid var(--fill-color);\n",
       "    border-color: transparent;\n",
       "    border-bottom-color: var(--fill-color);\n",
       "    animation:\n",
       "      spin 1s steps(1) infinite;\n",
       "  }\n",
       "\n",
       "  @keyframes spin {\n",
       "    0% {\n",
       "      border-color: transparent;\n",
       "      border-bottom-color: var(--fill-color);\n",
       "      border-left-color: var(--fill-color);\n",
       "    }\n",
       "    20% {\n",
       "      border-color: transparent;\n",
       "      border-left-color: var(--fill-color);\n",
       "      border-top-color: var(--fill-color);\n",
       "    }\n",
       "    30% {\n",
       "      border-color: transparent;\n",
       "      border-left-color: var(--fill-color);\n",
       "      border-top-color: var(--fill-color);\n",
       "      border-right-color: var(--fill-color);\n",
       "    }\n",
       "    40% {\n",
       "      border-color: transparent;\n",
       "      border-right-color: var(--fill-color);\n",
       "      border-top-color: var(--fill-color);\n",
       "    }\n",
       "    60% {\n",
       "      border-color: transparent;\n",
       "      border-right-color: var(--fill-color);\n",
       "    }\n",
       "    80% {\n",
       "      border-color: transparent;\n",
       "      border-right-color: var(--fill-color);\n",
       "      border-bottom-color: var(--fill-color);\n",
       "    }\n",
       "    90% {\n",
       "      border-color: transparent;\n",
       "      border-bottom-color: var(--fill-color);\n",
       "    }\n",
       "  }\n",
       "</style>\n",
       "\n",
       "      <script>\n",
       "        async function quickchart(key) {\n",
       "          const quickchartButtonEl =\n",
       "            document.querySelector('#' + key + ' button');\n",
       "          quickchartButtonEl.disabled = true;  // To prevent multiple clicks.\n",
       "          quickchartButtonEl.classList.add('colab-df-spinner');\n",
       "          try {\n",
       "            const charts = await google.colab.kernel.invokeFunction(\n",
       "                'suggestCharts', [key], {});\n",
       "          } catch (error) {\n",
       "            console.error('Error during call to suggestCharts:', error);\n",
       "          }\n",
       "          quickchartButtonEl.classList.remove('colab-df-spinner');\n",
       "          quickchartButtonEl.classList.add('colab-df-quickchart-complete');\n",
       "        }\n",
       "        (() => {\n",
       "          let quickchartButtonEl =\n",
       "            document.querySelector('#df-6999eb5e-26b3-4677-9511-ea8631c8f4ce button');\n",
       "          quickchartButtonEl.style.display =\n",
       "            google.colab.kernel.accessAllowed ? 'block' : 'none';\n",
       "        })();\n",
       "      </script>\n",
       "    </div>\n",
       "\n",
       "    </div>\n",
       "  </div>\n"
      ],
      "text/plain": [
       "          PE\n",
       "6713  438.59\n",
       "6077  480.86\n",
       "5191  468.53\n",
       "4088  444.01\n",
       "2934  479.61"
      ]
     },
     "execution_count": 105,
     "metadata": {},
     "output_type": "execute_result"
    }
   ],
   "source": [
    "ytrain.head()"
   ]
  },
  {
   "cell_type": "code",
   "execution_count": 107,
   "metadata": {
    "id": "jrzL5s-J90n_"
   },
   "outputs": [],
   "source": [
    "from sklearn.metrics import r2_score"
   ]
  },
  {
   "cell_type": "code",
   "execution_count": 109,
   "metadata": {
    "id": "Og8vTYjr-Ovn"
   },
   "outputs": [],
   "source": [
    "tr_score=r2_score(ytrain,tr_pred)\n",
    "ts_score=r2_score(ytest,ts_pred)"
   ]
  },
  {
   "cell_type": "code",
   "execution_count": 111,
   "metadata": {
    "colab": {
     "base_uri": "https://localhost:8080/"
    },
    "id": "lKsQ_1bN-vY4",
    "outputId": "adcccca5-e2fc-4434-ae43-ff102507ae6e"
   },
   "outputs": [
    {
     "name": "stdout",
     "output_type": "stream",
     "text": [
      "0.9145227074623108\n",
      "0.9119493961334229\n"
     ]
    }
   ],
   "source": [
    "print(tr_score)\n",
    "print(ts_score)"
   ]
  },
  {
   "cell_type": "code",
   "execution_count": null,
   "metadata": {
    "id": "Me0TW8jb-0Ix"
   },
   "outputs": [],
   "source": []
  }
 ],
 "metadata": {
  "colab": {
   "provenance": []
  },
  "kernelspec": {
   "display_name": "Python [conda env:base] *",
   "language": "python",
   "name": "conda-base-py"
  },
  "language_info": {
   "codemirror_mode": {
    "name": "ipython",
    "version": 3
   },
   "file_extension": ".py",
   "mimetype": "text/x-python",
   "name": "python",
   "nbconvert_exporter": "python",
   "pygments_lexer": "ipython3",
   "version": "3.12.7"
  }
 },
 "nbformat": 4,
 "nbformat_minor": 4
}
